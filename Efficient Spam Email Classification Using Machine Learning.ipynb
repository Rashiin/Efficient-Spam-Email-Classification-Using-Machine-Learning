{
 "cells": [
  {
   "cell_type": "markdown",
   "id": "820c964f",
   "metadata": {},
   "source": [
    "# Let's start Final ML Project"
   ]
  },
  {
   "cell_type": "markdown",
   "id": "266beebc",
   "metadata": {},
   "source": [
    "## Journal's Name :\n",
    "\n",
    "## Efficient Spam Email Classification Using Machine Learning Algorithms\n"
   ]
  },
  {
   "cell_type": "markdown",
   "id": "e99b05ea",
   "metadata": {},
   "source": [
    "**توضیحات مقاله** :\n",
    "    مقاله ژورنال به موضوع مبرم تشخیص هرزنامه ایمیل در عصر دیجیتال معاصر می پردازد. از آنجایی که ایمیل یک روش اصلی ارتباط است، شناسایی و کاهش هرزنامه ایمیل به دلیل پیامدهای مهم زمانی، پولی، امنیتی و حریم خصوصی آن بسیار مهم است. این مقاله یک رویکرد مبتنی بر یادگیری ماشینی را برای تشخیص هرزنامه ایمیل، با استفاده از الگوریتم‌های مختلف پیشنهاد می‌کند."
   ]
  },
  {
   "cell_type": "markdown",
   "id": "0adb8d27",
   "metadata": {},
   "source": [
    "#### نکته **  توضیحات رو در بیشتر جاها به انگلیسی نوشتم چرا که با زبان فارسی متن بهم ریخته میشد **"
   ]
  },
  {
   "cell_type": "markdown",
   "id": "97674092",
   "metadata": {},
   "source": [
    "### import Libraries "
   ]
  },
  {
   "cell_type": "code",
   "execution_count": 22,
   "id": "e0152876",
   "metadata": {},
   "outputs": [],
   "source": [
    "import numpy as np\n",
    "import pandas as pd"
   ]
  },
  {
   "cell_type": "code",
   "execution_count": 23,
   "id": "f720e039",
   "metadata": {},
   "outputs": [],
   "source": [
    "from sklearn.model_selection import train_test_split\n",
    "from sklearn.metrics import accuracy_score, mean_squared_error\n",
    "from sklearn.tree import DecisionTreeClassifier\n",
    "from sklearn.ensemble import RandomForestClassifier, VotingClassifier\n",
    "from sklearn.linear_model import LogisticRegression"
   ]
  },
  {
   "cell_type": "markdown",
   "id": "af2bdb35",
   "metadata": {},
   "source": [
    "### Loading the Dataset:"
   ]
  },
  {
   "cell_type": "code",
   "execution_count": 65,
   "id": "1f308f10",
   "metadata": {},
   "outputs": [],
   "source": [
    "df = pd.read_csv('emails.csv')"
   ]
  },
  {
   "cell_type": "markdown",
   "id": "1150fc0a",
   "metadata": {},
   "source": [
    "### Preprocessing the Dataset:"
   ]
  },
  {
   "cell_type": "code",
   "execution_count": 30,
   "id": "491df164",
   "metadata": {},
   "outputs": [],
   "source": [
    "df = df.drop('Email No.', axis=1)"
   ]
  },
  {
   "cell_type": "markdown",
   "id": "987d6362",
   "metadata": {},
   "source": [
    "### instruction of Dataset :\n",
    "شامل 5172 ردیف، هر ردیف برای هر ایمیل است. 3002 ستون وجود دارد. ستون اول نام ایمیل را نشان می دهد. این نام با اعداد تنظیم شده است و نه نام گیرندگان برای محافظت از حریم خصوصی. آخرین ستون دارای برچسب هایی برای پیش بینی است: 1 برای هرزنامه، 0 برای غیر هرزنامه. 3000 ستون باقی مانده، 3000 کلمه رایج در همه ایمیل ها هستند، پس از حذف نویسه ها/کلمات غیر الفبایی. برای هر ردیف، تعداد هر کلمه (ستون) در آن ایمیل (ردیف) در سلول های مربوطه ذخیره می شود. بنابراین، اطلاعات مربوط به تمام 5172 ایمیل در یک دیتافریم فشرده به جای فایل های متنی جداگانه ذخیره می شود."
   ]
  },
  {
   "cell_type": "code",
   "execution_count": 5,
   "id": "26df5b72",
   "metadata": {
    "scrolled": true
   },
   "outputs": [
    {
     "data": {
      "text/html": [
       "<div>\n",
       "<style scoped>\n",
       "    .dataframe tbody tr th:only-of-type {\n",
       "        vertical-align: middle;\n",
       "    }\n",
       "\n",
       "    .dataframe tbody tr th {\n",
       "        vertical-align: top;\n",
       "    }\n",
       "\n",
       "    .dataframe thead th {\n",
       "        text-align: right;\n",
       "    }\n",
       "</style>\n",
       "<table border=\"1\" class=\"dataframe\">\n",
       "  <thead>\n",
       "    <tr style=\"text-align: right;\">\n",
       "      <th></th>\n",
       "      <th>the</th>\n",
       "      <th>to</th>\n",
       "      <th>ect</th>\n",
       "      <th>and</th>\n",
       "      <th>for</th>\n",
       "      <th>of</th>\n",
       "      <th>a</th>\n",
       "      <th>you</th>\n",
       "      <th>hou</th>\n",
       "      <th>in</th>\n",
       "      <th>...</th>\n",
       "      <th>connevey</th>\n",
       "      <th>jay</th>\n",
       "      <th>valued</th>\n",
       "      <th>lay</th>\n",
       "      <th>infrastructure</th>\n",
       "      <th>military</th>\n",
       "      <th>allowing</th>\n",
       "      <th>ff</th>\n",
       "      <th>dry</th>\n",
       "      <th>Prediction</th>\n",
       "    </tr>\n",
       "  </thead>\n",
       "  <tbody>\n",
       "    <tr>\n",
       "      <th>0</th>\n",
       "      <td>0</td>\n",
       "      <td>0</td>\n",
       "      <td>1</td>\n",
       "      <td>0</td>\n",
       "      <td>0</td>\n",
       "      <td>0</td>\n",
       "      <td>2</td>\n",
       "      <td>0</td>\n",
       "      <td>0</td>\n",
       "      <td>0</td>\n",
       "      <td>...</td>\n",
       "      <td>0</td>\n",
       "      <td>0</td>\n",
       "      <td>0</td>\n",
       "      <td>0</td>\n",
       "      <td>0</td>\n",
       "      <td>0</td>\n",
       "      <td>0</td>\n",
       "      <td>0</td>\n",
       "      <td>0</td>\n",
       "      <td>0</td>\n",
       "    </tr>\n",
       "    <tr>\n",
       "      <th>1</th>\n",
       "      <td>8</td>\n",
       "      <td>13</td>\n",
       "      <td>24</td>\n",
       "      <td>6</td>\n",
       "      <td>6</td>\n",
       "      <td>2</td>\n",
       "      <td>102</td>\n",
       "      <td>1</td>\n",
       "      <td>27</td>\n",
       "      <td>18</td>\n",
       "      <td>...</td>\n",
       "      <td>0</td>\n",
       "      <td>0</td>\n",
       "      <td>0</td>\n",
       "      <td>0</td>\n",
       "      <td>0</td>\n",
       "      <td>0</td>\n",
       "      <td>0</td>\n",
       "      <td>1</td>\n",
       "      <td>0</td>\n",
       "      <td>0</td>\n",
       "    </tr>\n",
       "    <tr>\n",
       "      <th>2</th>\n",
       "      <td>0</td>\n",
       "      <td>0</td>\n",
       "      <td>1</td>\n",
       "      <td>0</td>\n",
       "      <td>0</td>\n",
       "      <td>0</td>\n",
       "      <td>8</td>\n",
       "      <td>0</td>\n",
       "      <td>0</td>\n",
       "      <td>4</td>\n",
       "      <td>...</td>\n",
       "      <td>0</td>\n",
       "      <td>0</td>\n",
       "      <td>0</td>\n",
       "      <td>0</td>\n",
       "      <td>0</td>\n",
       "      <td>0</td>\n",
       "      <td>0</td>\n",
       "      <td>0</td>\n",
       "      <td>0</td>\n",
       "      <td>0</td>\n",
       "    </tr>\n",
       "    <tr>\n",
       "      <th>3</th>\n",
       "      <td>0</td>\n",
       "      <td>5</td>\n",
       "      <td>22</td>\n",
       "      <td>0</td>\n",
       "      <td>5</td>\n",
       "      <td>1</td>\n",
       "      <td>51</td>\n",
       "      <td>2</td>\n",
       "      <td>10</td>\n",
       "      <td>1</td>\n",
       "      <td>...</td>\n",
       "      <td>0</td>\n",
       "      <td>0</td>\n",
       "      <td>0</td>\n",
       "      <td>0</td>\n",
       "      <td>0</td>\n",
       "      <td>0</td>\n",
       "      <td>0</td>\n",
       "      <td>0</td>\n",
       "      <td>0</td>\n",
       "      <td>0</td>\n",
       "    </tr>\n",
       "    <tr>\n",
       "      <th>4</th>\n",
       "      <td>7</td>\n",
       "      <td>6</td>\n",
       "      <td>17</td>\n",
       "      <td>1</td>\n",
       "      <td>5</td>\n",
       "      <td>2</td>\n",
       "      <td>57</td>\n",
       "      <td>0</td>\n",
       "      <td>9</td>\n",
       "      <td>3</td>\n",
       "      <td>...</td>\n",
       "      <td>0</td>\n",
       "      <td>0</td>\n",
       "      <td>0</td>\n",
       "      <td>0</td>\n",
       "      <td>0</td>\n",
       "      <td>0</td>\n",
       "      <td>0</td>\n",
       "      <td>1</td>\n",
       "      <td>0</td>\n",
       "      <td>0</td>\n",
       "    </tr>\n",
       "    <tr>\n",
       "      <th>...</th>\n",
       "      <td>...</td>\n",
       "      <td>...</td>\n",
       "      <td>...</td>\n",
       "      <td>...</td>\n",
       "      <td>...</td>\n",
       "      <td>...</td>\n",
       "      <td>...</td>\n",
       "      <td>...</td>\n",
       "      <td>...</td>\n",
       "      <td>...</td>\n",
       "      <td>...</td>\n",
       "      <td>...</td>\n",
       "      <td>...</td>\n",
       "      <td>...</td>\n",
       "      <td>...</td>\n",
       "      <td>...</td>\n",
       "      <td>...</td>\n",
       "      <td>...</td>\n",
       "      <td>...</td>\n",
       "      <td>...</td>\n",
       "      <td>...</td>\n",
       "    </tr>\n",
       "    <tr>\n",
       "      <th>5167</th>\n",
       "      <td>2</td>\n",
       "      <td>2</td>\n",
       "      <td>2</td>\n",
       "      <td>3</td>\n",
       "      <td>0</td>\n",
       "      <td>0</td>\n",
       "      <td>32</td>\n",
       "      <td>0</td>\n",
       "      <td>0</td>\n",
       "      <td>5</td>\n",
       "      <td>...</td>\n",
       "      <td>0</td>\n",
       "      <td>0</td>\n",
       "      <td>0</td>\n",
       "      <td>0</td>\n",
       "      <td>0</td>\n",
       "      <td>0</td>\n",
       "      <td>0</td>\n",
       "      <td>0</td>\n",
       "      <td>0</td>\n",
       "      <td>0</td>\n",
       "    </tr>\n",
       "    <tr>\n",
       "      <th>5168</th>\n",
       "      <td>35</td>\n",
       "      <td>27</td>\n",
       "      <td>11</td>\n",
       "      <td>2</td>\n",
       "      <td>6</td>\n",
       "      <td>5</td>\n",
       "      <td>151</td>\n",
       "      <td>4</td>\n",
       "      <td>3</td>\n",
       "      <td>23</td>\n",
       "      <td>...</td>\n",
       "      <td>0</td>\n",
       "      <td>0</td>\n",
       "      <td>0</td>\n",
       "      <td>0</td>\n",
       "      <td>0</td>\n",
       "      <td>0</td>\n",
       "      <td>0</td>\n",
       "      <td>1</td>\n",
       "      <td>0</td>\n",
       "      <td>0</td>\n",
       "    </tr>\n",
       "    <tr>\n",
       "      <th>5169</th>\n",
       "      <td>0</td>\n",
       "      <td>0</td>\n",
       "      <td>1</td>\n",
       "      <td>1</td>\n",
       "      <td>0</td>\n",
       "      <td>0</td>\n",
       "      <td>11</td>\n",
       "      <td>0</td>\n",
       "      <td>0</td>\n",
       "      <td>1</td>\n",
       "      <td>...</td>\n",
       "      <td>0</td>\n",
       "      <td>0</td>\n",
       "      <td>0</td>\n",
       "      <td>0</td>\n",
       "      <td>0</td>\n",
       "      <td>0</td>\n",
       "      <td>0</td>\n",
       "      <td>0</td>\n",
       "      <td>0</td>\n",
       "      <td>1</td>\n",
       "    </tr>\n",
       "    <tr>\n",
       "      <th>5170</th>\n",
       "      <td>2</td>\n",
       "      <td>7</td>\n",
       "      <td>1</td>\n",
       "      <td>0</td>\n",
       "      <td>2</td>\n",
       "      <td>1</td>\n",
       "      <td>28</td>\n",
       "      <td>2</td>\n",
       "      <td>0</td>\n",
       "      <td>8</td>\n",
       "      <td>...</td>\n",
       "      <td>0</td>\n",
       "      <td>0</td>\n",
       "      <td>0</td>\n",
       "      <td>0</td>\n",
       "      <td>0</td>\n",
       "      <td>0</td>\n",
       "      <td>0</td>\n",
       "      <td>1</td>\n",
       "      <td>0</td>\n",
       "      <td>1</td>\n",
       "    </tr>\n",
       "    <tr>\n",
       "      <th>5171</th>\n",
       "      <td>22</td>\n",
       "      <td>24</td>\n",
       "      <td>5</td>\n",
       "      <td>1</td>\n",
       "      <td>6</td>\n",
       "      <td>5</td>\n",
       "      <td>148</td>\n",
       "      <td>8</td>\n",
       "      <td>2</td>\n",
       "      <td>23</td>\n",
       "      <td>...</td>\n",
       "      <td>0</td>\n",
       "      <td>0</td>\n",
       "      <td>0</td>\n",
       "      <td>0</td>\n",
       "      <td>0</td>\n",
       "      <td>0</td>\n",
       "      <td>0</td>\n",
       "      <td>0</td>\n",
       "      <td>0</td>\n",
       "      <td>0</td>\n",
       "    </tr>\n",
       "  </tbody>\n",
       "</table>\n",
       "<p>5172 rows × 3001 columns</p>\n",
       "</div>"
      ],
      "text/plain": [
       "      the  to  ect  and  for  of    a  you  hou  in  ...  connevey  jay  \\\n",
       "0       0   0    1    0    0   0    2    0    0   0  ...         0    0   \n",
       "1       8  13   24    6    6   2  102    1   27  18  ...         0    0   \n",
       "2       0   0    1    0    0   0    8    0    0   4  ...         0    0   \n",
       "3       0   5   22    0    5   1   51    2   10   1  ...         0    0   \n",
       "4       7   6   17    1    5   2   57    0    9   3  ...         0    0   \n",
       "...   ...  ..  ...  ...  ...  ..  ...  ...  ...  ..  ...       ...  ...   \n",
       "5167    2   2    2    3    0   0   32    0    0   5  ...         0    0   \n",
       "5168   35  27   11    2    6   5  151    4    3  23  ...         0    0   \n",
       "5169    0   0    1    1    0   0   11    0    0   1  ...         0    0   \n",
       "5170    2   7    1    0    2   1   28    2    0   8  ...         0    0   \n",
       "5171   22  24    5    1    6   5  148    8    2  23  ...         0    0   \n",
       "\n",
       "      valued  lay  infrastructure  military  allowing  ff  dry  Prediction  \n",
       "0          0    0               0         0         0   0    0           0  \n",
       "1          0    0               0         0         0   1    0           0  \n",
       "2          0    0               0         0         0   0    0           0  \n",
       "3          0    0               0         0         0   0    0           0  \n",
       "4          0    0               0         0         0   1    0           0  \n",
       "...      ...  ...             ...       ...       ...  ..  ...         ...  \n",
       "5167       0    0               0         0         0   0    0           0  \n",
       "5168       0    0               0         0         0   1    0           0  \n",
       "5169       0    0               0         0         0   0    0           1  \n",
       "5170       0    0               0         0         0   1    0           1  \n",
       "5171       0    0               0         0         0   0    0           0  \n",
       "\n",
       "[5172 rows x 3001 columns]"
      ]
     },
     "execution_count": 5,
     "metadata": {},
     "output_type": "execute_result"
    }
   ],
   "source": [
    "df"
   ]
  },
  {
   "cell_type": "markdown",
   "id": "a0fd3a26",
   "metadata": {},
   "source": [
    "## Part1"
   ]
  },
  {
   "cell_type": "markdown",
   "id": "0262f589",
   "metadata": {},
   "source": [
    "### Splitting the Dataset:"
   ]
  },
  {
   "cell_type": "markdown",
   "id": "af9b4103",
   "metadata": {},
   "source": [
    "X شامل ویژگی ها (ویژگی ها) مجموعه داده به جز متغیر هدف است.\n",
    "y شامل متغیر هدف است."
   ]
  },
  {
   "cell_type": "code",
   "execution_count": 6,
   "id": "109ce5eb",
   "metadata": {},
   "outputs": [],
   "source": [
    "# Split the data into training and testing sets\n",
    "\n",
    "X = df.drop('Prediction', axis=1)\n",
    "y = df['Prediction']"
   ]
  },
  {
   "cell_type": "code",
   "execution_count": 7,
   "id": "acaa3f7f",
   "metadata": {},
   "outputs": [],
   "source": [
    "X_train, X_test, y_train, y_test = train_test_split(X, y, test_size=0.2, random_state=42)"
   ]
  },
  {
   "cell_type": "markdown",
   "id": "d2ce27a3",
   "metadata": {},
   "source": [
    "### Training and Evaluating Models:"
   ]
  },
  {
   "cell_type": "markdown",
   "id": "9138ae52",
   "metadata": {},
   "source": [
    "train four different classifiers: Decision Tree, Random Forest, Logistic Regression, and Voting Classifier"
   ]
  },
  {
   "cell_type": "code",
   "execution_count": 8,
   "id": "abfa90a7",
   "metadata": {},
   "outputs": [
    {
     "name": "stderr",
     "output_type": "stream",
     "text": [
      "/Users/rashinfarahani/opt/anaconda3/lib/python3.9/site-packages/sklearn/linear_model/_logistic.py:814: ConvergenceWarning: lbfgs failed to converge (status=1):\n",
      "STOP: TOTAL NO. of ITERATIONS REACHED LIMIT.\n",
      "\n",
      "Increase the number of iterations (max_iter) or scale the data as shown in:\n",
      "    https://scikit-learn.org/stable/modules/preprocessing.html\n",
      "Please also refer to the documentation for alternative solver options:\n",
      "    https://scikit-learn.org/stable/modules/linear_model.html#logistic-regression\n",
      "  n_iter_i = _check_optimize_result(\n",
      "/Users/rashinfarahani/opt/anaconda3/lib/python3.9/site-packages/sklearn/linear_model/_logistic.py:814: ConvergenceWarning: lbfgs failed to converge (status=1):\n",
      "STOP: TOTAL NO. of ITERATIONS REACHED LIMIT.\n",
      "\n",
      "Increase the number of iterations (max_iter) or scale the data as shown in:\n",
      "    https://scikit-learn.org/stable/modules/preprocessing.html\n",
      "Please also refer to the documentation for alternative solver options:\n",
      "    https://scikit-learn.org/stable/modules/linear_model.html#logistic-regression\n",
      "  n_iter_i = _check_optimize_result(\n"
     ]
    },
    {
     "data": {
      "text/plain": [
       "VotingClassifier(estimators=[('dt', DecisionTreeClassifier()),\n",
       "                             ('rf', RandomForestClassifier()),\n",
       "                             ('lr', LogisticRegression())])"
      ]
     },
     "execution_count": 8,
     "metadata": {},
     "output_type": "execute_result"
    }
   ],
   "source": [
    "# Decision Tree\n",
    "dt = DecisionTreeClassifier()\n",
    "dt.fit(X_train, y_train)\n",
    "\n",
    "# Random Forest\n",
    "rf = RandomForestClassifier()\n",
    "rf.fit(X_train, y_train)\n",
    "\n",
    "# Logistic Regression\n",
    "lr = LogisticRegression()\n",
    "lr.fit(X_train, y_train)\n",
    "\n",
    "# Voting Classifier\n",
    "vc = VotingClassifier(estimators=[('dt', dt), ('rf', rf), ('lr', lr)], voting='hard')\n",
    "vc.fit(X_train, y_train)\n"
   ]
  },
  {
   "cell_type": "markdown",
   "id": "21d19e52",
   "metadata": {},
   "source": [
    "### Evaluating Model Performance:"
   ]
  },
  {
   "cell_type": "code",
   "execution_count": 9,
   "id": "63632618",
   "metadata": {},
   "outputs": [
    {
     "name": "stdout",
     "output_type": "stream",
     "text": [
      "Decision Tree - Accuracy: 92.37%, RMSE: 0.28\n",
      "Random Forest - Accuracy: 97.58%, RMSE: 0.16\n",
      "Logistic Regression - Accuracy: 96.81%, RMSE: 0.18\n",
      "Voting Classifier - Accuracy: 97.68%, RMSE: 0.15\n"
     ]
    }
   ],
   "source": [
    "models = {'Decision Tree': dt, 'Random Forest': rf, 'Logistic Regression': lr, 'Voting Classifier': vc}\n",
    "for name, model in models.items():\n",
    "    y_pred = model.predict(X_test)\n",
    "    accuracy = accuracy_score(y_test, y_pred)\n",
    "    rmse = mean_squared_error(y_test, y_pred, squared=False)\n",
    "    print(f'{name} - Accuracy: {accuracy*100:.2f}%, RMSE: {rmse:.2f}')\n"
   ]
  },
  {
   "cell_type": "markdown",
   "id": "19f4ab3d",
   "metadata": {},
   "source": [
    "### حالا با روش ها دیگه امتحان میکنم :)"
   ]
  },
  {
   "cell_type": "markdown",
   "id": "2424d5d3",
   "metadata": {},
   "source": [
    "## Part2"
   ]
  },
  {
   "cell_type": "code",
   "execution_count": 10,
   "id": "883428a3",
   "metadata": {},
   "outputs": [],
   "source": [
    "from sklearn.preprocessing import StandardScaler"
   ]
  },
  {
   "cell_type": "markdown",
   "id": "3516bee8",
   "metadata": {},
   "source": [
    "### Fill Missing Values with Mean:"
   ]
  },
  {
   "cell_type": "code",
   "execution_count": 11,
   "id": "81db7fdf",
   "metadata": {},
   "outputs": [],
   "source": [
    "# Fill missing values\n",
    "df.fillna(df.mean(), inplace=True)"
   ]
  },
  {
   "cell_type": "markdown",
   "id": "cee5d602",
   "metadata": {},
   "source": [
    "### Normalize Numerical Features using StandardScaler:"
   ]
  },
  {
   "cell_type": "markdown",
   "id": "1f163865",
   "metadata": {},
   "source": [
    "تضمین می کند که همه ویژگی ها دارای میانگین 0 و انحراف استاندارد 1 هستند که برای بسیاری از الگوریتم های یادگیری ماشین مهم است."
   ]
  },
  {
   "cell_type": "code",
   "execution_count": 12,
   "id": "8ff3dcea",
   "metadata": {},
   "outputs": [],
   "source": [
    "# normalize numerical features\n",
    "scaler = StandardScaler()\n",
    "df[df.columns] = scaler.fit_transform(df[df.columns])"
   ]
  },
  {
   "cell_type": "markdown",
   "id": "84be9221",
   "metadata": {},
   "source": [
    "### Define Features and Target:"
   ]
  },
  {
   "cell_type": "code",
   "execution_count": 13,
   "id": "17f7a7c4",
   "metadata": {},
   "outputs": [],
   "source": [
    "X = df.drop('Prediction', axis=1)\n",
    "y = df['Prediction']"
   ]
  },
  {
   "cell_type": "markdown",
   "id": "65226d7d",
   "metadata": {},
   "source": [
    "### Convert Target to Categories:"
   ]
  },
  {
   "cell_type": "code",
   "execution_count": 14,
   "id": "3d5e594c",
   "metadata": {},
   "outputs": [],
   "source": [
    "threshold = 0.5\n",
    "y = (y > threshold).astype(int)"
   ]
  },
  {
   "cell_type": "markdown",
   "id": "95242630",
   "metadata": {},
   "source": [
    "### Split Dataset into Training and Testing Sets:"
   ]
  },
  {
   "cell_type": "code",
   "execution_count": 15,
   "id": "5c2b26e1",
   "metadata": {},
   "outputs": [],
   "source": [
    "X_train, X_test, y_train, y_test = train_test_split(X, y, test_size=0.2, random_state=42)"
   ]
  },
  {
   "cell_type": "markdown",
   "id": "294538ee",
   "metadata": {},
   "source": [
    "### Initialize and Train Logistic Regression Model:"
   ]
  },
  {
   "cell_type": "code",
   "execution_count": 16,
   "id": "417a6ed8",
   "metadata": {},
   "outputs": [
    {
     "name": "stderr",
     "output_type": "stream",
     "text": [
      "/Users/rashinfarahani/opt/anaconda3/lib/python3.9/site-packages/sklearn/linear_model/_logistic.py:814: ConvergenceWarning: lbfgs failed to converge (status=1):\n",
      "STOP: TOTAL NO. of ITERATIONS REACHED LIMIT.\n",
      "\n",
      "Increase the number of iterations (max_iter) or scale the data as shown in:\n",
      "    https://scikit-learn.org/stable/modules/preprocessing.html\n",
      "Please also refer to the documentation for alternative solver options:\n",
      "    https://scikit-learn.org/stable/modules/linear_model.html#logistic-regression\n",
      "  n_iter_i = _check_optimize_result(\n"
     ]
    },
    {
     "data": {
      "text/plain": [
       "LogisticRegression()"
      ]
     },
     "execution_count": 16,
     "metadata": {},
     "output_type": "execute_result"
    }
   ],
   "source": [
    "model = LogisticRegression()\n",
    "model.fit(X_train, y_train)"
   ]
  },
  {
   "cell_type": "markdown",
   "id": "e084aa9b",
   "metadata": {},
   "source": [
    "### Make Predictions on the Test Set:"
   ]
  },
  {
   "cell_type": "markdown",
   "id": "efc2bb1c",
   "metadata": {},
   "source": [
    "در نهایت دقت مدل روی مجموعه تست را با استفاده از accuracy_score محاسبه کردم و نتیجه را چاپ کردم. دقت نشان‌دهنده درصد برچسب‌های پیش‌بینی‌شده درست از همه برچسب‌ها در مجموعه آزمایشی است."
   ]
  },
  {
   "cell_type": "code",
   "execution_count": 17,
   "id": "b9cd061e",
   "metadata": {},
   "outputs": [
    {
     "name": "stdout",
     "output_type": "stream",
     "text": [
      "Accuracy: 0.970048309178744\n"
     ]
    }
   ],
   "source": [
    "from sklearn.metrics import accuracy_score\n",
    "\n",
    "y_pred = model.predict(X_test)\n",
    "\n",
    "#Evaluate Model Performance:\n",
    "accuracy = accuracy_score(y_test, y_pred)\n",
    "print(f'Accuracy: {accuracy}')\n"
   ]
  },
  {
   "cell_type": "markdown",
   "id": "7951c8cf",
   "metadata": {},
   "source": [
    "### حالا با روش دیگه امتحان میکنم :)"
   ]
  },
  {
   "cell_type": "markdown",
   "id": "5aa57986",
   "metadata": {},
   "source": [
    "## Part 3"
   ]
  },
  {
   "cell_type": "code",
   "execution_count": 66,
   "id": "d18094f2",
   "metadata": {},
   "outputs": [],
   "source": [
    "X = df.drop(columns=['Email No.','Prediction'])\n",
    "y = df['Prediction']\n",
    "\n",
    "scaler = StandardScaler()\n",
    "X = scaler.fit_transform(X)\n",
    "\n",
    "# Split the data into training and testing sets\n",
    "X_train, X_test, y_train, y_test = train_test_split(X, y, test_size=0.2, random_state=42)"
   ]
  },
  {
   "cell_type": "markdown",
   "id": "4ad162c1",
   "metadata": {},
   "source": [
    "مقدار: نمونه ای از طبقه بندی کننده که با فراپارامترهای پیش فرض آن مقداردهی اولیه شده است."
   ]
  },
  {
   "cell_type": "code",
   "execution_count": 67,
   "id": "aeb93052",
   "metadata": {},
   "outputs": [],
   "source": [
    "# Define the classifiers\n",
    "classifiers = {\n",
    "    \"Decision Tree\": DecisionTreeClassifier(),\n",
    "    \"Random Forest\": RandomForestClassifier(),\n",
    "    \"Logistic Regression\": LogisticRegression(max_iter=1000),  # Increase max_iter\n",
    "}\n",
    "\n",
    "voting_clf = VotingClassifier(estimators=[(name, clf) for name, clf in classifiers.items()])\n",
    "classifiers[\"Voting Classifier\"] = voting_clf\n"
   ]
  },
  {
   "cell_type": "code",
   "execution_count": 68,
   "id": "9a697a1a",
   "metadata": {},
   "outputs": [],
   "source": [
    "from sklearn.metrics import mean_squared_error"
   ]
  },
  {
   "cell_type": "code",
   "execution_count": 69,
   "id": "c7a4beb0",
   "metadata": {},
   "outputs": [],
   "source": [
    "# Dictionary to hold the results\n",
    "results = {}\n",
    "\n",
    "for name, clf in classifiers.items():\n",
    "    # Train the classifier\n",
    "    clf.fit(X_train, y_train)\n",
    "    \n",
    "    # Make predictions on the test set\n",
    "    y_pred = clf.predict(X_test)\n",
    "    \n",
    "    # Calculate accuracy and RMSE\n",
    "    accuracy = accuracy_score(y_test, y_pred)\n",
    "    rmse = np.sqrt(mean_squared_error(y_test, y_pred))\n",
    "    \n",
    "    # Store the results\n",
    "    results[name] = {\"Accuracy\": accuracy, \"RMSE\": rmse}"
   ]
  },
  {
   "cell_type": "markdown",
   "id": "1d29c9a7",
   "metadata": {},
   "source": [
    "این خط نتایج DataFrame را چاپ می کند و دقت و امتیازات RMSE را برای هر طبقه بندی کننده نشان می دهد."
   ]
  },
  {
   "cell_type": "code",
   "execution_count": 70,
   "id": "cde0ae4e",
   "metadata": {},
   "outputs": [
    {
     "name": "stdout",
     "output_type": "stream",
     "text": [
      "                     Accuracy      RMSE\n",
      "Decision Tree        0.925604  0.272757\n",
      "Random Forest        0.975845  0.155417\n",
      "Logistic Regression  0.970048  0.173066\n",
      "Voting Classifier    0.980676  0.139010\n"
     ]
    }
   ],
   "source": [
    "results_df = pd.DataFrame(results).T\n",
    "\n",
    "# Display the results\n",
    "print(results_df)\n"
   ]
  },
  {
   "cell_type": "markdown",
   "id": "105c7f31",
   "metadata": {},
   "source": [
    "**مهم**\n",
    "\n",
    "در نهایت، دقت و امتیازات RMSE را برای هر طبقه‌بندی با استفاده از نمودارهای نواری تجسم می‌کنم. این نمودارها مقایسه واضحی از عملکرد طبقه‌بندی‌کننده‌های مختلف ارائه می‌کنند و به ما کمک میکنه بهترین مدل را شناسایی کنم !!."
   ]
  },
  {
   "cell_type": "code",
   "execution_count": 44,
   "id": "25410957",
   "metadata": {},
   "outputs": [
    {
     "data": {
      "image/png": "[encoded data removed]",
      "text/plain": [
       "<Figure size 432x288 with 1 Axes>"
      ]
     },
     "metadata": {
      "needs_background": "light"
     },
     "output_type": "display_data"
    },
    {
     "data": {
      "image/png": "[encoded data removed]",
      "text/plain": [
       "<Figure size 432x288 with 1 Axes>"
      ]
     },
     "metadata": {
      "needs_background": "light"
     },
     "output_type": "display_data"
    }
   ],
   "source": [
    "# Plot the accuracy scores\n",
    "results_df['Accuracy'].plot(kind='bar', title='Accuracy Scores')\n",
    "plt.show()\n",
    "\n",
    "# Plot the RMSE scores\n",
    "results_df['RMSE'].plot(kind='bar', title='RMSE Scores')\n",
    "plt.show()"
   ]
  },
  {
   "cell_type": "markdown",
   "id": "52ee7541",
   "metadata": {},
   "source": [
    "## Part 4"
   ]
  },
  {
   "cell_type": "markdown",
   "id": "6fab2a64",
   "metadata": {},
   "source": [
    "### show different information about dataset"
   ]
  },
  {
   "cell_type": "code",
   "execution_count": 55,
   "id": "419bb6fa",
   "metadata": {},
   "outputs": [
    {
     "name": "stdout",
     "output_type": "stream",
     "text": [
      "  Email No.  the  to  ect  and  for  of    a  you  hou  ...  connevey  jay  \\\n",
      "0   Email 1    0   0    1    0    0   0    2    0    0  ...         0    0   \n",
      "1   Email 2    8  13   24    6    6   2  102    1   27  ...         0    0   \n",
      "2   Email 3    0   0    1    0    0   0    8    0    0  ...         0    0   \n",
      "3   Email 4    0   5   22    0    5   1   51    2   10  ...         0    0   \n",
      "4   Email 5    7   6   17    1    5   2   57    0    9  ...         0    0   \n",
      "\n",
      "   valued  lay  infrastructure  military  allowing  ff  dry  Prediction  \n",
      "0       0    0               0         0         0   0    0           0  \n",
      "1       0    0               0         0         0   1    0           0  \n",
      "2       0    0               0         0         0   0    0           0  \n",
      "3       0    0               0         0         0   0    0           0  \n",
      "4       0    0               0         0         0   1    0           0  \n",
      "\n",
      "[5 rows x 3002 columns]\n",
      "<class 'pandas.core.frame.DataFrame'>\n",
      "RangeIndex: 5172 entries, 0 to 5171\n",
      "Columns: 3002 entries, Email No. to Prediction\n",
      "dtypes: int64(3001), object(1)\n",
      "memory usage: 118.5+ MB\n",
      "None\n",
      "Email No.     0\n",
      "the           0\n",
      "to            0\n",
      "ect           0\n",
      "and           0\n",
      "             ..\n",
      "military      0\n",
      "allowing      0\n",
      "ff            0\n",
      "dry           0\n",
      "Prediction    0\n",
      "Length: 3002, dtype: int64\n"
     ]
    }
   ],
   "source": [
    "print(df.head())\n",
    "\n",
    "# Display basic information about dataset\n",
    "print(df.info())\n",
    "\n",
    "# And Check for missing values\n",
    "print(df.isnull().sum())"
   ]
  },
  {
   "cell_type": "code",
   "execution_count": 96,
   "id": "7bf67725",
   "metadata": {},
   "outputs": [],
   "source": [
    "X = df.drop(['Email No.', 'Prediction'], axis=1)\n",
    "y = df['Prediction']\n",
    "\n",
    "# Split the data into training and testing sets \n",
    "X_train, X_test, y_train, y_test = train_test_split(X, y, test_size=0.2, random_state=42)"
   ]
  },
  {
   "cell_type": "code",
   "execution_count": 97,
   "id": "53d3d524",
   "metadata": {},
   "outputs": [],
   "source": [
    "# from sklearn.preprocessing import StandardScaler\n",
    "\n",
    "# scaler = StandardScaler()\n",
    "# X_train_scaled = scaler.fit_transform(X_train)\n",
    "# X_test_scaled = scaler.transform(X_test)"
   ]
  },
  {
   "cell_type": "markdown",
   "id": "1cee8a96",
   "metadata": {},
   "source": [
    "### Initialize classifiers"
   ]
  },
  {
   "cell_type": "code",
   "execution_count": 98,
   "id": "2d9cad6f",
   "metadata": {},
   "outputs": [],
   "source": [
    "dt_classifier = DecisionTreeClassifier(random_state=42)\n",
    "rf_classifier = RandomForestClassifier(random_state=42)\n",
    "lr_classifier = LogisticRegression(max_iter=1000, random_state=42)"
   ]
  },
  {
   "cell_type": "markdown",
   "id": "19572196",
   "metadata": {},
   "source": [
    "### Model Training and Evaluation"
   ]
  },
  {
   "cell_type": "code",
   "execution_count": 99,
   "id": "8b9a8b2b",
   "metadata": {},
   "outputs": [],
   "source": [
    "#Train and evaluate each classifier\n",
    "classifiers = [dt_classifier, rf_classifier, lr_classifier]\n",
    "classifier_names = ['Decision Tree', 'Random Forest', 'Logistic Regression']"
   ]
  },
  {
   "cell_type": "code",
   "execution_count": 100,
   "id": "fda21027",
   "metadata": {},
   "outputs": [
    {
     "name": "stdout",
     "output_type": "stream",
     "text": [
      "Decision Tree Accuracy: 0.9227053140096618\n",
      "Random Forest Accuracy: 0.9777777777777777\n",
      "Logistic Regression Accuracy: 0.9719806763285024\n"
     ]
    },
    {
     "name": "stderr",
     "output_type": "stream",
     "text": [
      "/Users/rashinfarahani/opt/anaconda3/lib/python3.9/site-packages/sklearn/linear_model/_logistic.py:814: ConvergenceWarning: lbfgs failed to converge (status=1):\n",
      "STOP: TOTAL NO. of ITERATIONS REACHED LIMIT.\n",
      "\n",
      "Increase the number of iterations (max_iter) or scale the data as shown in:\n",
      "    https://scikit-learn.org/stable/modules/preprocessing.html\n",
      "Please also refer to the documentation for alternative solver options:\n",
      "    https://scikit-learn.org/stable/modules/linear_model.html#logistic-regression\n",
      "  n_iter_i = _check_optimize_result(\n"
     ]
    }
   ],
   "source": [
    "for clf, name in zip(classifiers, classifier_names):\n",
    "    clf.fit(X_train, y_train)\n",
    "    y_pred = clf.predict(X_test)\n",
    "    accuracy = accuracy_score(y_test, y_pred)\n",
    "    print(f\"{name} Accuracy: {accuracy}\")\n",
    "\n",
    "#Find the best performing algorithm :"
   ]
  },
  {
   "cell_type": "markdown",
   "id": "237c45d6",
   "metadata": {},
   "source": [
    "**نکته**:\n",
    "    Voting Classifier: یک طبقه بندی رأی دهی اولیه و آموزش داده می شود. این طبقه بندی کننده اکثریت پیش بینی ها را از سه طبقه بندی کننده می گیرد."
   ]
  },
  {
   "cell_type": "code",
   "execution_count": 101,
   "id": "fd3811e9",
   "metadata": {},
   "outputs": [
    {
     "name": "stdout",
     "output_type": "stream",
     "text": [
      "Voting Classifier Accuracy: 0.9816425120772947\n"
     ]
    },
    {
     "name": "stderr",
     "output_type": "stream",
     "text": [
      "/Users/rashinfarahani/opt/anaconda3/lib/python3.9/site-packages/sklearn/linear_model/_logistic.py:814: ConvergenceWarning: lbfgs failed to converge (status=1):\n",
      "STOP: TOTAL NO. of ITERATIONS REACHED LIMIT.\n",
      "\n",
      "Increase the number of iterations (max_iter) or scale the data as shown in:\n",
      "    https://scikit-learn.org/stable/modules/preprocessing.html\n",
      "Please also refer to the documentation for alternative solver options:\n",
      "    https://scikit-learn.org/stable/modules/linear_model.html#logistic-regression\n",
      "  n_iter_i = _check_optimize_result(\n"
     ]
    }
   ],
   "source": [
    "# Initialize the Voting Classifier\n",
    "voting_clf = VotingClassifier(estimators=[('dt', dt_classifier), ('rf', rf_classifier), ('lr', lr_classifier)], voting='hard')\n",
    "\n",
    "# Train and evaluate the Voting Classifier\n",
    "voting_clf.fit(X_train, y_train)\n",
    "y_pred_voting = voting_clf.predict(X_test)\n",
    "accuracy_voting = accuracy_score(y_test, y_pred_voting)\n",
    "print(f\"Voting Classifier Accuracy: {accuracy_voting}\")\n"
   ]
  },
  {
   "cell_type": "markdown",
   "id": "b5624447",
   "metadata": {},
   "source": [
    "### Plot Part :"
   ]
  },
  {
   "cell_type": "code",
   "execution_count": 76,
   "id": "0c58d1a5",
   "metadata": {},
   "outputs": [],
   "source": [
    "### Import libraries "
   ]
  },
  {
   "cell_type": "code",
   "execution_count": 103,
   "id": "b2c4be38",
   "metadata": {},
   "outputs": [],
   "source": [
    "import matplotlib.pyplot as plt\n",
    "import seaborn as sns\n",
    "from sklearn.svm import SVC\n",
    "from sklearn.ensemble import GradientBoostingClassifier"
   ]
  },
  {
   "cell_type": "code",
   "execution_count": 104,
   "id": "583809f5",
   "metadata": {},
   "outputs": [],
   "source": [
    "# Initialize classifiers\n",
    "dt_classifier = DecisionTreeClassifier(random_state=42)\n",
    "rf_classifier = RandomForestClassifier(random_state=42)\n",
    "lr_classifier = LogisticRegression(random_state=42)\n",
    "svm_classifier = SVC(random_state=42)  # Added Support Vector Machines\n",
    "gb_classifier = GradientBoostingClassifier(random_state=42)  # Added Gradient Boosting"
   ]
  },
  {
   "cell_type": "code",
   "execution_count": 105,
   "id": "d511dafa",
   "metadata": {},
   "outputs": [
    {
     "name": "stdout",
     "output_type": "stream",
     "text": [
      "Decision Tree Accuracy: 0.9227053140096618\n",
      "Random Forest Accuracy: 0.9777777777777777\n"
     ]
    },
    {
     "name": "stderr",
     "output_type": "stream",
     "text": [
      "/Users/rashinfarahani/opt/anaconda3/lib/python3.9/site-packages/sklearn/linear_model/_logistic.py:814: ConvergenceWarning: lbfgs failed to converge (status=1):\n",
      "STOP: TOTAL NO. of ITERATIONS REACHED LIMIT.\n",
      "\n",
      "Increase the number of iterations (max_iter) or scale the data as shown in:\n",
      "    https://scikit-learn.org/stable/modules/preprocessing.html\n",
      "Please also refer to the documentation for alternative solver options:\n",
      "    https://scikit-learn.org/stable/modules/linear_model.html#logistic-regression\n",
      "  n_iter_i = _check_optimize_result(\n"
     ]
    },
    {
     "name": "stdout",
     "output_type": "stream",
     "text": [
      "Logistic Regression Accuracy: 0.9681159420289855\n",
      "SVM Accuracy: 0.8173913043478261\n",
      "Gradient Boosting Accuracy: 0.9719806763285024\n"
     ]
    }
   ],
   "source": [
    "classifiers = [dt_classifier, rf_classifier, lr_classifier, svm_classifier, gb_classifier]\n",
    "classifier_names = ['Decision Tree', 'Random Forest', 'Logistic Regression', 'SVM', 'Gradient Boosting']\n",
    "\n",
    "# Accuracy Scores\n",
    "accuracy_scores = []\n",
    "\n",
    "for clf, name in zip(classifiers, classifier_names):\n",
    "    clf.fit(X_train, y_train)\n",
    "    y_pred = clf.predict(X_test)\n",
    "    accuracy = accuracy_score(y_test, y_pred)\n",
    "    accuracy_scores.append(accuracy)\n",
    "    print(f\"{name} Accuracy: {accuracy}\")"
   ]
  },
  {
   "cell_type": "code",
   "execution_count": 106,
   "id": "ef491ef5",
   "metadata": {},
   "outputs": [
    {
     "data": {
      "image/png": "[encoded data removed]",
      "text/plain": [
       "<Figure size 720x432 with 1 Axes>"
      ]
     },
     "metadata": {
      "needs_background": "light"
     },
     "output_type": "display_data"
    }
   ],
   "source": [
    "# Visualize the performance of each algorithm\n",
    "plt.figure(figsize=(10, 6))\n",
    "sns.barplot(x=classifier_names, y=accuracy_scores)\n",
    "plt.title('Accuracy Scores of Different Algorithms')\n",
    "plt.xlabel('Classifier')\n",
    "plt.ylabel('Accuracy')\n",
    "plt.ylim(0.9, 1.0)\n",
    "plt.xticks(rotation=45)\n",
    "plt.show()"
   ]
  },
  {
   "cell_type": "code",
   "execution_count": 90,
   "id": "753a4eaf",
   "metadata": {},
   "outputs": [],
   "source": [
    "### import Libraries "
   ]
  },
  {
   "cell_type": "code",
   "execution_count": 88,
   "id": "b8c9c1a3",
   "metadata": {},
   "outputs": [],
   "source": [
    "from sklearn.calibration import CalibratedClassifierCV\n",
    "from sklearn.metrics import roc_curve, roc_auc_score"
   ]
  },
  {
   "cell_type": "code",
   "execution_count": 92,
   "id": "f347709e",
   "metadata": {},
   "outputs": [
    {
     "data": {
      "image/png": "[encoded data removed]",
      "text/plain": [
       "<Figure size 864x576 with 1 Axes>"
      ]
     },
     "metadata": {
      "needs_background": "light"
     },
     "output_type": "display_data"
    }
   ],
   "source": [
    "calibrated_svc = CalibratedClassifierCV(base_estimator=svm_classifier, method='sigmoid')\n",
    "calibrated_svc.fit(X_train, y_train)\n",
    "\n",
    "\n",
    "#  plot ROC curves for all classifiers including SVM with Platt scaling\n",
    "plt.figure(figsize=(12, 8))\n",
    "for clf, name in zip(classifiers + [calibrated_svc], classifier_names + ['SVM (with Platt Scaling)']):\n",
    "    if hasattr(clf, \"predict_proba\"):\n",
    "        y_scores = clf.predict_proba(X_test)[:, 1]\n",
    "    else:\n",
    "        y_scores = clf.decision_function(X_test)\n",
    "    fpr, tpr, thresholds = roc_curve(y_test, y_scores)\n",
    "    auc_score = roc_auc_score(y_test, y_scores)\n",
    "    plt.plot(fpr, tpr, label=f'{name} (AUC = {auc_score:.2f})')\n",
    "    \n",
    "\n",
    "    \n",
    "# show plot :    \n",
    "plt.plot([0, 1], [0, 1], 'k--')\n",
    "plt.xlabel('False Positive Rate')\n",
    "plt.ylabel('True Positive Rate')\n",
    "plt.title('ROC Curves for Different Classifiers')\n",
    "plt.legend()\n",
    "plt.show()    \n",
    "    "
   ]
  },
  {
   "cell_type": "markdown",
   "id": "d9002ef6",
   "metadata": {},
   "source": [
    "محور x نشان دهنده نرخ مثبت کاذب (FPR) است که نسبت پیش بینی های مثبت کاذب به تعداد کل منفی های واقعی است.\n",
    "محور y نشان دهنده نرخ مثبت واقعی (TPR) است که نسبت پیش بینی های مثبت واقعی به تعداد کل مثبت های واقعی است. TPR همچنین به عنوان حساسیت یا یادآوری شناخته می شود.\n",
    "هر منحنی نشان دهنده عملکرد یک طبقه بندی کننده در آستانه های تصمیم گیری مختلف است.\n",
    "خط چین مورب نشان دهنده یک طبقه بندی تصادفی است.\n",
    "\n",
    "**توضیحات نمودار **:\n",
    "\n",
    "    به طور خلاصه، این طرح امکان مقایسه بصری عملکرد طبقه‌بندی‌کننده‌های مختلف در تمایز بین ایمیل‌های اسپم و غیر هرزنامه را فراهم می‌کند. طبقه بندی کننده با نزدیکترین منحنی به گوشه بالا سمت چپ و با بالاترین امتیاز AUC بهترین عملکرد برای کار در نظر گرفته می شود."
   ]
  },
  {
   "cell_type": "markdown",
   "id": "b7a73071",
   "metadata": {},
   "source": [
    "### At the end:\n",
    "من این روش را هم پیشنهاد میدهم;\n",
    "Boosting Machine (GBM) algorithm   ( به دلیل عملکرد پیش بینی قوی خود شناخته شده است)"
   ]
  },
  {
   "cell_type": "code",
   "execution_count": 107,
   "id": "faf07975",
   "metadata": {},
   "outputs": [
    {
     "name": "stdout",
     "output_type": "stream",
     "text": [
      "Gradient Boosting Classifier Accuracy: 0.9719806763285024\n"
     ]
    }
   ],
   "source": [
    "from sklearn.ensemble import GradientBoostingClassifier\n",
    "\n",
    "# Initialize the Gradient Boosting Classifier\n",
    "gbm_classifier = GradientBoostingClassifier()\n",
    "\n",
    "# Train the classifier on the training data\n",
    "gbm_classifier.fit(X_train, y_train)\n",
    "\n",
    "# Make predictions on the test data\n",
    "y_pred_gbm = gbm_classifier.predict(X_test)\n",
    "\n",
    "# Calculate accuracy\n",
    "accuracy_gbm = accuracy_score(y_test, y_pred_gbm)\n",
    "print(f\"Gradient Boosting Classifier Accuracy: {accuracy_gbm}\")\n"
   ]
  },
  {
   "cell_type": "markdown",
   "id": "dddd6191",
   "metadata": {},
   "source": [
    "## what's the result ?!\n",
    "\n",
    "### Voting Classifier, \n",
    "پیش‌بینی‌های طبقه‌بندی‌کننده‌های متعدد (درخت تصمیم، رگرسیون لجستیک) را ترکیب می‌کند، بالاترین دقت را در بین همه طبقه‌بندی‌کننده‌ها به دست آورد و پس از آن جنگل تصادفی قرار دارد. این نشان می‌دهد که رویکرد گروهی مورد استفاده در طبقه‌بندی رأی‌گیری، عملکرد پیش‌بینی‌کننده را در مقایسه با طبقه‌بندی‌کننده‌های فردی بهبود می‌بخشد.\n",
    "\n",
    "\n",
    "### &\n",
    "The algorithms suggested to address the convergence warning in Logistic Regression include:\n",
    "- Increasing the number of iterations (`max_iter` parameter)\n",
    "- Scaling the data using techniques like standardization (`StandardScaler`)"
   ]
  },
  {
   "cell_type": "markdown",
   "id": "be2b34b4",
   "metadata": {},
   "source": [
    "### Rashin Gholijani Farahani - Ml class - Friday "
   ]
  }
 ],
 "metadata": {
  "kernelspec": {
   "display_name": "Python 3 (ipykernel)",
   "language": "python",
   "name": "python3"
  },
  "language_info": {
   "codemirror_mode": {
    "name": "ipython",
    "version": 3
   },
   "file_extension": ".py",
   "mimetype": "text/x-python",
   "name": "python",
   "nbconvert_exporter": "python",
   "pygments_lexer": "ipython3",
   "version": "3.9.12"
  }
 },
 "nbformat": 4,
 "nbformat_minor": 5
}
